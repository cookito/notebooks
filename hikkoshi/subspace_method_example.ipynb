{
 "cells": [
  {
   "cell_type": "code",
   "execution_count": 19,
   "metadata": {
    "collapsed": true
   },
   "outputs": [],
   "source": [
    "import numpy as np\n",
    "from sklearn.decomposition import PCA\n",
    "from sklearn.base import BaseEstimator\n",
    "\n",
    "class SM(BaseEstimator):\n",
    "    \"\"\"Subspace Method (SM)\n",
    "    Classification method using Subspace.\n",
    "    \n",
    "    Parameters\n",
    "    ----------\n",
    "    n_dimension : int\n",
    "        Number of dimension of subspace.\n",
    "    Attributes\n",
    "    ----------\n",
    "    subspaces_ : array, shape (n_classes, n_features, n_features)\n",
    "        Subspace of N classes.\n",
    "        \n",
    "    classes_ : array, shape (n_classes,)\n",
    "        Unique labels of Classes.\n",
    "    \"\"\"\n",
    "    \n",
    "    def __init__(self, n_dimension):\n",
    "        self.n_dimension = n_dimension\n",
    "    \n",
    "    def fit(self, X, y):\n",
    "        \"\"\"Fit the model with X.\n",
    "        X should be normalized because this method uses PCA.\n",
    "        \n",
    "        Parameters\n",
    "        ----------\n",
    "        X : array-like, shape (n_samples, n_features)\n",
    "            Training data, where n_samples in the number of samples\n",
    "            and n_features is the number of features.\n",
    "        y : array_like, shape (n_samples,)\n",
    "            Label data, where n_samples in the number of samples\n",
    "        Returns\n",
    "        -------\n",
    "        self : object\n",
    "            Returns the instance itself.\n",
    "        \"\"\"\n",
    "        self.classes_ = np.unique(y)\n",
    "        self.subspaces_ = []\n",
    "        for class_name in self.classes_:\n",
    "            idx = np.argwhere(y == class_name).squeeze()\n",
    "            X_class_i = X[idx, :]\n",
    "\n",
    "            pca = PCA(n_components=self.n_dimension)\n",
    "            pca.fit(X_class_i)\n",
    "\n",
    "            # define projection matrix (equal to subspace)\n",
    "            P = pca.components_.T @ pca.components_\n",
    "            self.subspaces_.append(P)\n",
    "            \n",
    "        self.subspaces_ = np.array(self.subspaces_)\n",
    "         \n",
    "        return self\n",
    "\n",
    "    def predict(self, X):\n",
    "        \"\"\"\n",
    "        Perform classification on samples in X.\n",
    "        Parameters\n",
    "        ----------\n",
    "        X : array-like, shape (n_samples, n_features)\n",
    "        Returns\n",
    "        -------\n",
    "        y_pred : array, shape (n_samples,)\n",
    "            Class labels for samples in X.\n",
    "        \"\"\"\n",
    "\n",
    "        #===<normal version>===#\n",
    "#         n, d = X.shape\n",
    "#         preds = []\n",
    "#         for x in X:\n",
    "#             similarities = []\n",
    "#             for P in self.subspaces_:\n",
    "#                 similarities.append(x.T @ P @ x)\n",
    "#             preds.append(np.argmax(similarities))\n",
    "#         return self.classes_[preds]\n",
    "\n",
    "        #===<faster version (using broadcast)>===#\n",
    "        # n: n_samples, d: n_features\n",
    "        n, d = X.shape\n",
    "\n",
    "        similarities = X.reshape((n, 1, 1, d)) @ \\\n",
    "            np.expand_dims(self.subspaces_, axis=0) @ \\\n",
    "            X.reshape((n, 1, d, 1))\n",
    "        similarities = similarities.squeeze()\n",
    "        \n",
    "        return self.classes_[np.argmax(similarities, axis=1)]\n",
    "    \n",
    "    def score(self, X, y):\n",
    "        return np.mean(self.predict(X) == y)\n",
    "\n",
    "    def get_params(self, deep=True):\n",
    "        return {'n_dimension': self.n_dimension}\n",
    "\n",
    "    def set_params(self, **parameters):\n",
    "        for parameter, value in parameters.items():\n",
    "            setattr(self,parameter, value)\n",
    "        return self"
   ]
  },
  {
   "cell_type": "markdown",
   "metadata": {},
   "source": [
    "# Prepare the data"
   ]
  },
  {
   "cell_type": "code",
   "execution_count": 3,
   "metadata": {
    "collapsed": false
   },
   "outputs": [],
   "source": [
    "import numpy as np\n",
    "from sklearn.datasets import load_digits\n",
    "from sklearn.model_selection import train_test_split\n",
    "\n",
    "digits_data = load_digits()\n",
    "x = digits_data.data\n",
    "y = digits_data.target\n",
    "\n",
    "x -= np.mean(x, axis=0)\n",
    "\n",
    "X_train, X_test, y_train, y_test = train_test_split(\n",
    "    x, y, test_size=0.33, random_state=42)"
   ]
  },
  {
   "cell_type": "code",
   "execution_count": 4,
   "metadata": {
    "collapsed": false
   },
   "outputs": [
    {
     "name": "stdout",
     "output_type": "stream",
     "text": [
      "(1203, 64) (1203,)\n",
      "(594, 64) (594,)\n"
     ]
    }
   ],
   "source": [
    "print(X_train.shape, y_train.shape)\n",
    "print(X_test.shape, y_test.shape)"
   ]
  },
  {
   "cell_type": "markdown",
   "metadata": {},
   "source": [
    "# Training & Inference"
   ]
  },
  {
   "cell_type": "code",
   "execution_count": 20,
   "metadata": {
    "collapsed": false,
    "scrolled": true
   },
   "outputs": [
    {
     "data": {
      "text/plain": [
       "0.80808080808080807"
      ]
     },
     "execution_count": 20,
     "metadata": {},
     "output_type": "execute_result"
    }
   ],
   "source": [
    "sm = SM(n_dimension=10)\n",
    "sm.fit(X_train, y_train)\n",
    "y_pred = sm.predict(X_test)\n",
    "sm.score(X_test, y_test)"
   ]
  },
  {
   "cell_type": "markdown",
   "metadata": {},
   "source": [
    "# Grid Search"
   ]
  },
  {
   "cell_type": "code",
   "execution_count": 91,
   "metadata": {
    "collapsed": false
   },
   "outputs": [
    {
     "data": {
      "text/plain": [
       "{'n_dimension': 12}"
      ]
     },
     "execution_count": 91,
     "metadata": {},
     "output_type": "execute_result"
    }
   ],
   "source": [
    "from sklearn.model_selection import GridSearchCV\n",
    "\n",
    "parameters = {'n_dimension': [i for i in range(X_train.shape[1])]}\n",
    "gs = GridSearchCV(sm, parameters, cv=5)\n",
    "gs.fit(X_train, y_train)\n",
    "\n",
    "gs.best_params_"
   ]
  },
  {
   "cell_type": "code",
   "execution_count": 26,
   "metadata": {
    "collapsed": false
   },
   "outputs": [
    {
     "data": {
      "text/plain": [
       "0.8232323232323232"
      ]
     },
     "execution_count": 26,
     "metadata": {},
     "output_type": "execute_result"
    }
   ],
   "source": [
    "sm = SM(**gs.best_params_)\n",
    "sm.fit(X_train, y_train)\n",
    "y_pred = sm.predict(X_test)\n",
    "sm.score(X_test, y_test)"
   ]
  },
  {
   "cell_type": "markdown",
   "metadata": {},
   "source": [
    "# Validation Curve"
   ]
  },
  {
   "cell_type": "code",
   "execution_count": 89,
   "metadata": {
    "collapsed": false,
    "scrolled": true
   },
   "outputs": [
    {
     "data": {
      "image/png": "[encoded data removed]",
      "text/plain": [
       "<matplotlib.figure.Figure at 0x11b809160>"
      ]
     },
     "metadata": {},
     "output_type": "display_data"
    }
   ],
   "source": [
    "%matplotlib inline\n",
    "from matplotlib import pyplot as plt\n",
    "import seaborn as sns\n",
    "from sklearn.learning_curve import validation_curve\n",
    "\n",
    "param_range = gs.get_params()['param_grid']['n_dimension']\n",
    "\n",
    "test_mean = [gs.grid_scores_[i][1] for i in range(len(gs.get_params()['param_grid']['n_dimension']))]\n",
    "test_std = np.std(\n",
    "    [gs.grid_scores_[i][2] for i in range(len(gs.get_params()['param_grid']['n_dimension']))], \n",
    "    axis=1)\n",
    "\n",
    "plt.plot(param_range, test_mean, \n",
    "         color='blue', linestyle='--', \n",
    "         label='validation accuracy')\n",
    "\n",
    "plt.fill_between(param_range, \n",
    "                 test_mean + test_std,\n",
    "                 test_mean - test_std, \n",
    "                 alpha=0.15, color='blue')\n",
    "\n",
    "plt.legend(loc='best')\n",
    "plt.xlabel('Subspace Dimension')\n",
    "plt.ylabel('Accuracy')\n",
    "plt.tight_layout()\n",
    "# plt.savefig('./figures/validation_curve.png', dpi=300)\n",
    "plt.show()"
   ]
  },
  {
   "cell_type": "code",
   "execution_count": 21,
   "metadata": {
    "collapsed": true
   },
   "outputs": [],
   "source": [
    "import numpy as np\n",
    "from sklearn.decomposition import KernelPCA\n",
    "from sklearn.base import BaseEstimator\n",
    "\n",
    "class KSM(BaseEstimator):\n",
    "    \"\"\"Subspace Method (SM)\n",
    "    Classification method using Subspace.\n",
    "    \n",
    "    Parameters\n",
    "    ----------\n",
    "    n_dimension : int\n",
    "        Number of dimension of subspace.\n",
    "    Attributes\n",
    "    ----------\n",
    "    subspaces_ : array, shape (n_classes, n_features, n_features)\n",
    "        Subspace of N classes.\n",
    "        \n",
    "    classes_ : array, shape (n_classes,)\n",
    "        Unique labels of Classes.\n",
    "    \"\"\"\n",
    "    \n",
    "    def __init__(self, n_dimension, gamma):\n",
    "        self.n_dimension = n_dimension\n",
    "        self.gamma = gamma\n",
    "    \n",
    "    def fit(self, X, y):\n",
    "        \"\"\"Fit the model with X.\n",
    "        X should be normalized because this method uses PCA.\n",
    "        \n",
    "        Parameters\n",
    "        ----------\n",
    "        X : array-like, shape (n_samples, n_features)\n",
    "            Training data, where n_samples in the number of samples\n",
    "            and n_features is the number of features.\n",
    "        y : array_like, shape (n_samples,)\n",
    "            Label data, where n_samples in the number of samples\n",
    "        Returns\n",
    "        -------\n",
    "        self : object\n",
    "            Returns the instance itself.\n",
    "        \"\"\"\n",
    "        self.classes_ = np.unique(y)\n",
    "        self.subspaces_ = []\n",
    "        for class_name in self.classes_:\n",
    "            idx = np.argwhere(y == class_name).squeeze()\n",
    "            X_class_i = X[idx, :]\n",
    "\n",
    "            pca = KernelPCA(n_components=self.n_dimension, kernel='rbf', gamma=self.gamma)\n",
    "            pca.fit(X_class_i.T)\n",
    "\n",
    "            # define projection matrix (equal to subspace)\n",
    "            P = pca.alphas_ @ pca.alphas_.T\n",
    "            self.subspaces_.append(P)\n",
    "            \n",
    "        self.subspaces_ = np.array(self.subspaces_)\n",
    "         \n",
    "        return self\n",
    "\n",
    "    def predict(self, X):\n",
    "        \"\"\"\n",
    "        Perform classification on samples in X.\n",
    "        Parameters\n",
    "        ----------\n",
    "        X : array-like, shape (n_samples, n_features)\n",
    "        Returns\n",
    "        -------\n",
    "        y_pred : array, shape (n_samples,)\n",
    "            Class labels for samples in X.\n",
    "        \"\"\"\n",
    "\n",
    "        #===<normal version>===#\n",
    "#         n, d = X.shape\n",
    "#         preds = []\n",
    "#         for x in X:\n",
    "#             similarities = []\n",
    "#             for P in self.subspaces_:\n",
    "#                 similarities.append(x.T @ P @ x)\n",
    "#             preds.append(np.argmax(similarities))\n",
    "#         return self.classes_[preds]\n",
    "\n",
    "        #===<faster version (using broadcast)>===#\n",
    "        # n: n_samples, d: n_features\n",
    "        n, d = X.shape\n",
    "\n",
    "        similarities = X.reshape((n, 1, 1, d)) @ \\\n",
    "            np.expand_dims(self.subspaces_, axis=0) @ \\\n",
    "            X.reshape((n, 1, d, 1))\n",
    "        similarities = similarities.squeeze()\n",
    "        \n",
    "        return self.classes_[np.argmax(similarities, axis=1)]\n",
    "    \n",
    "    def score(self, X, y):\n",
    "        return np.mean(self.predict(X) == y)\n",
    "\n",
    "    def get_params(self, deep=True):\n",
    "        return {'n_dimension': self.n_dimension}\n",
    "\n",
    "    def set_params(self, **parameters):\n",
    "        for parameter, value in parameters.items():\n",
    "            setattr(self,parameter, value)\n",
    "        return self"
   ]
  },
  {
   "cell_type": "code",
   "execution_count": 33,
   "metadata": {
    "collapsed": false
   },
   "outputs": [
    {
     "data": {
      "text/plain": [
       "0.97138047138047134"
      ]
     },
     "execution_count": 33,
     "metadata": {},
     "output_type": "execute_result"
    }
   ],
   "source": [
    "sm = KSM(n_dimension=10, gamma=1e-4)\n",
    "sm.fit(X_train, y_train)\n",
    "y_pred = sm.predict(X_test)\n",
    "sm.score(X_test, y_test)"
   ]
  },
  {
   "cell_type": "code",
   "execution_count": null,
   "metadata": {
    "collapsed": true
   },
   "outputs": [],
   "source": []
  }
 ],
 "metadata": {
  "kernelspec": {
   "display_name": "Python 3",
   "language": "python",
   "name": "python3"
  },
  "language_info": {
   "codemirror_mode": {
    "name": "ipython",
    "version": 3
   },
   "file_extension": ".py",
   "mimetype": "text/x-python",
   "name": "python",
   "nbconvert_exporter": "python",
   "pygments_lexer": "ipython3",
   "version": "3.6.0"
  }
 },
 "nbformat": 4,
 "nbformat_minor": 2
}
