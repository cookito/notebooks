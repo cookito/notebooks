{
 "cells": [
  {
   "cell_type": "markdown",
   "metadata": {},
   "source": [
    "# ロジスティック回帰\n",
    "名前に反して分類手法の一つであり、人気手法の一つ\n",
    "\n",
    "### 長所\n",
    "* 出力が0〜1の確率で表されるため、天気予報などの「どのくらいの確率で現象Aが起こるか」を知りたいタスクで便利\n",
    "* シンプルで解釈性にも優れる\n",
    "\n",
    "### 短所\n",
    "* ロジスティック回帰は与えられた訓練データから、パラメータの条件付き尤度最大化を行っているため、外れ値に影響されやすい\n",
    "* 他クラスの場合は一対他で比較する必要がある\n",
    "\n",
    "# サポートベクタマシン（SVM）\n",
    "人気手法の一つであり、ディープラーニングが出てくるまでは無双していた\n",
    "### 長所\n",
    "* 比較的実装が容易であり、軽量\n",
    "* データが線形分離不可能な場合（XORなど）で、非線形分離したい時に使う **カーネル法** と相性が良い\n",
    "* 訓練時にSVMにとって興味があるのが「サポートベクタ（決定境界付近のデータ）」のみであるので、外れ値に強い\n",
    "\n",
    "### 短所\n",
    "* パラメータチューニングが必要\n",
    "\n",
    "#### 補足：カーネル法について\n",
    "非線形な射影関数を用いて、非線形分離を行うことが可能である。\n",
    "$\\phi(x)$をデータ$x$の射影とすると、訓練時に解く式に登場する$x$を$\\phi(x)$で置き換えるだけで良い。\n",
    "しかし、SVMは最適化する際に$\\phi(x)$の内積を計算する必要があるが、陽に$\\phi(x)$を扱うと計算が大変である。\n",
    "よって以下のカーネル関数を代わりに計算する。\n",
    "$$k(x, x') = \\phi(x)^T \\phi(x')$$\n",
    "\n",
    "よく使われるカーネル関数はガウスカーネルと呼ばれる無限次元の基底を持つ射影関数である。式を下に示す。\n",
    "\n",
    "$${k(x, x') = exp(-\\frac {||x - x'||^2} {2\\sigma^2} )}$$\n",
    "\n",
    "実際には定数項をまとめて下のように簡略化される\n",
    "\n",
    "$${k(x, x') = exp(-\\gamma {||x - x'||^2} )}$$\n",
    "\n",
    "カーネルは、大雑把に言うと「2サンプル間の類似度」を表している。\n",
    "\n",
    "実際にカーネルSVMを実行してみる。"
   ]
  },
  {
   "cell_type": "code",
   "execution_count": 7,
   "metadata": {
    "collapsed": false
   },
   "outputs": [
    {
     "data": {
      "image/png": "[encoded data removed]",
      "text/plain": [
       "<matplotlib.figure.Figure at 0x11007f860>"
      ]
     },
     "metadata": {},
     "output_type": "display_data"
    }
   ],
   "source": [
    "import matplotlib.pyplot as plt\n",
    "import numpy as np\n",
    "from sklearn.svm import SVC\n",
    "\n",
    "plt.xlim([-3, 3])\n",
    "plt.ylim([-3, 3])\n",
    "\n",
    "# 'rbf' はガウスカーネルのこと。線形分離したいときは'linear'\n",
    "# gamma：大きいほど複雑な決定境界になる C：大きいほどハードマージン\n",
    "svm = SVC(kernel='rbf', random_state=0, gamma=0.10, C=10.0)\n",
    "\n",
    "svm.fit(X_xor, y_xor)\n",
    "plot_decision_regions(X_xor, y_xor,\n",
    "                      classifier=svm)\n",
    "plt.legend(loc='upper left')\n",
    "plt.tight_layout()\n",
    "plt.show()"
   ]
  },
  {
   "cell_type": "markdown",
   "metadata": {},
   "source": [
    "## ロジスティック回帰とSVMの比較\n",
    "|ロジスティック回帰|SVM|\n",
    "|---|---|\n",
    "|<img src=\"http://imgur.com/oezyi2V.jpg\", height=300px>|<img src=\"http://imgur.com/zelC6nJ.jpg\", height=300px>|"
   ]
  },
  {
   "cell_type": "markdown",
   "metadata": {},
   "source": [
    "# 決定木\n",
    "ジニ係数（ジニ不純度）：データの混ざり具合\n",
    "\n",
    "### 長所\n",
    "* 特徴量のスケーリングが必要ない\n",
    "* モデルの解釈が容易（どの特徴量がどのように影響を及ぼしているか分かりやすい）\n",
    "\n",
    "### 短所\n",
    "* 過学習しやすい。（しかし、低バイアス高バリアンスの性質を活かしたアンサンブル学習器の「ランダムフォレスト」がとても強力）"
   ]
  },
  {
   "cell_type": "markdown",
   "metadata": {},
   "source": [
    "---\n",
    "### その他コード"
   ]
  },
  {
   "cell_type": "code",
   "execution_count": 4,
   "metadata": {
    "collapsed": true
   },
   "outputs": [],
   "source": [
    "from matplotlib.colors import ListedColormap\n",
    "import matplotlib.pyplot as plt\n",
    "import warnings\n",
    "\n",
    "\n",
    "def versiontuple(v):\n",
    "    return tuple(map(int, (v.split(\".\"))))\n",
    "\n",
    "\n",
    "def plot_decision_regions(X, y, classifier, test_idx=None, resolution=0.02):\n",
    "\n",
    "    # setup marker generator and color map\n",
    "    markers = ('s', 'x', 'o', '^', 'v')\n",
    "    colors = ('red', 'blue', 'lightgreen', 'gray', 'cyan')\n",
    "    cmap = ListedColormap(colors[:len(np.unique(y))])\n",
    "\n",
    "    # plot the decision surface\n",
    "    x1_min, x1_max = X[:, 0].min() - 1, X[:, 0].max() + 1\n",
    "    x2_min, x2_max = X[:, 1].min() - 1, X[:, 1].max() + 1\n",
    "    xx1, xx2 = np.meshgrid(np.arange(x1_min, x1_max, resolution),\n",
    "                           np.arange(x2_min, x2_max, resolution))\n",
    "    Z = classifier.predict(np.array([xx1.ravel(), xx2.ravel()]).T)\n",
    "    Z = Z.reshape(xx1.shape)\n",
    "    plt.contourf(xx1, xx2, Z, alpha=0.4, cmap=cmap)\n",
    "    plt.xlim(xx1.min(), xx1.max())\n",
    "    plt.ylim(xx2.min(), xx2.max())\n",
    "\n",
    "    for idx, cl in enumerate(np.unique(y)):\n",
    "        plt.scatter(x=X[y == cl, 0], y=X[y == cl, 1],\n",
    "                    alpha=0.8, c=cmap(idx),\n",
    "                    marker=markers[idx], label=cl)\n",
    "\n",
    "    # highlight test samples\n",
    "    if test_idx:\n",
    "        # plot all samples\n",
    "        if not versiontuple(np.__version__) >= versiontuple('1.9.0'):\n",
    "            X_test, y_test = X[list(test_idx), :], y[list(test_idx)]\n",
    "            warnings.warn('Please update to NumPy 1.9.0 or newer')\n",
    "        else:\n",
    "            X_test, y_test = X[test_idx, :], y[test_idx]\n",
    "\n",
    "        plt.scatter(X_test[:, 0],\n",
    "                    X_test[:, 1],\n",
    "                    c='',\n",
    "                    alpha=1.0,\n",
    "                    linewidths=1,\n",
    "                    marker='o',\n",
    "                    s=55, label='test set')"
   ]
  },
  {
   "cell_type": "code",
   "execution_count": 6,
   "metadata": {
    "collapsed": false
   },
   "outputs": [
    {
     "data": {
      "text/plain": [
       "<matplotlib.collections.PathCollection at 0x110c81c50>"
      ]
     },
     "execution_count": 6,
     "metadata": {},
     "output_type": "execute_result"
    }
   ],
   "source": [
    "np.random.seed(0)\n",
    "X_xor = np.random.randn(200, 2)\n",
    "y_xor = np.logical_xor(X_xor[:, 0] > 0,\n",
    "                       X_xor[:, 1] > 0)\n",
    "y_xor = np.where(y_xor, 1, -1)\n",
    "\n",
    "plt.scatter(X_xor[y_xor == 1, 0],\n",
    "            X_xor[y_xor == 1, 1],\n",
    "            c='b', marker='x',\n",
    "            label='1')\n",
    "plt.scatter(X_xor[y_xor == -1, 0],\n",
    "            X_xor[y_xor == -1, 1],\n",
    "            c='r',\n",
    "            marker='s',\n",
    "            label='-1')\n"
   ]
  }
 ],
 "metadata": {
  "kernelspec": {
   "display_name": "Python 3",
   "language": "python",
   "name": "python3"
  },
  "language_info": {
   "codemirror_mode": {
    "name": "ipython",
    "version": 3
   },
   "file_extension": ".py",
   "mimetype": "text/x-python",
   "name": "python",
   "nbconvert_exporter": "python",
   "pygments_lexer": "ipython3",
   "version": "3.6.0"
  }
 },
 "nbformat": 4,
 "nbformat_minor": 2
}
