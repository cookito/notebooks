{
 "cells": [
  {
   "cell_type": "markdown",
   "metadata": {},
   "source": [
    "# 欠損値のあるデータの扱い"
   ]
  },
  {
   "cell_type": "code",
   "execution_count": 1,
   "metadata": {
    "collapsed": false
   },
   "outputs": [
    {
     "data": {
      "text/html": [
       "<div>\n",
       "<table border=\"1\" class=\"dataframe\">\n",
       "  <thead>\n",
       "    <tr style=\"text-align: right;\">\n",
       "      <th></th>\n",
       "      <th>A</th>\n",
       "      <th>B</th>\n",
       "      <th>C</th>\n",
       "      <th>D</th>\n",
       "    </tr>\n",
       "  </thead>\n",
       "  <tbody>\n",
       "    <tr>\n",
       "      <th>0</th>\n",
       "      <td>1.0</td>\n",
       "      <td>2.0</td>\n",
       "      <td>3.0</td>\n",
       "      <td>4.0</td>\n",
       "    </tr>\n",
       "    <tr>\n",
       "      <th>1</th>\n",
       "      <td>5.0</td>\n",
       "      <td>6.0</td>\n",
       "      <td>NaN</td>\n",
       "      <td>8.0</td>\n",
       "    </tr>\n",
       "    <tr>\n",
       "      <th>2</th>\n",
       "      <td>10.0</td>\n",
       "      <td>11.0</td>\n",
       "      <td>12.0</td>\n",
       "      <td>NaN</td>\n",
       "    </tr>\n",
       "  </tbody>\n",
       "</table>\n",
       "</div>"
      ],
      "text/plain": [
       "      A     B     C    D\n",
       "0   1.0   2.0   3.0  4.0\n",
       "1   5.0   6.0   NaN  8.0\n",
       "2  10.0  11.0  12.0  NaN"
      ]
     },
     "execution_count": 1,
     "metadata": {},
     "output_type": "execute_result"
    }
   ],
   "source": [
    "%matplotlib inline\n",
    "import pandas as pd\n",
    "from io import StringIO\n",
    "\n",
    "csv_data = '''A,B,C,D\n",
    "1.0,2.0,3.0,4.0\n",
    "5.0,6.0,,8.0\n",
    "10.0,11.0,12.0,'''\n",
    "\n",
    "# If you are using Python 2.7, you need\n",
    "# to convert the string to unicode:\n",
    "# csv_data = unicode(csv_data)\n",
    "\n",
    "df = pd.read_csv(StringIO(csv_data))\n",
    "df"
   ]
  },
  {
   "cell_type": "code",
   "execution_count": 2,
   "metadata": {
    "collapsed": false
   },
   "outputs": [
    {
     "data": {
      "text/plain": [
       "A    0\n",
       "B    0\n",
       "C    1\n",
       "D    1\n",
       "dtype: int64"
      ]
     },
     "execution_count": 2,
     "metadata": {},
     "output_type": "execute_result"
    }
   ],
   "source": [
    "df.isnull().sum()"
   ]
  },
  {
   "cell_type": "code",
   "execution_count": 5,
   "metadata": {
    "collapsed": false
   },
   "outputs": [
    {
     "data": {
      "text/plain": [
       "array([[  1. ,   2. ,   3. ,   4. ],\n",
       "       [  5. ,   6. ,   7.5,   8. ],\n",
       "       [ 10. ,  11. ,  12. ,   6. ]])"
      ]
     },
     "execution_count": 5,
     "metadata": {},
     "output_type": "execute_result"
    }
   ],
   "source": [
    "from sklearn.preprocessing import Imputer\n",
    "\n",
    "# strategy={'mean': 平均, 'median': 中央値, 'most_frequent': 最頻値}\n",
    "imr = Imputer(missing_values='NaN', strategy='mean', axis=0)\n",
    "imr = imr.fit(df)\n",
    "imputed_data = imr.transform(df.values)\n",
    "imputed_data"
   ]
  },
  {
   "cell_type": "markdown",
   "metadata": {},
   "source": [
    "---\n",
    "# カテゴリカルデータの扱い"
   ]
  },
  {
   "cell_type": "code",
   "execution_count": 18,
   "metadata": {
    "collapsed": false
   },
   "outputs": [
    {
     "data": {
      "text/html": [
       "<div>\n",
       "<table border=\"1\" class=\"dataframe\">\n",
       "  <thead>\n",
       "    <tr style=\"text-align: right;\">\n",
       "      <th></th>\n",
       "      <th>color</th>\n",
       "      <th>size</th>\n",
       "      <th>price</th>\n",
       "      <th>classlabel</th>\n",
       "    </tr>\n",
       "  </thead>\n",
       "  <tbody>\n",
       "    <tr>\n",
       "      <th>0</th>\n",
       "      <td>green</td>\n",
       "      <td>M</td>\n",
       "      <td>10.1</td>\n",
       "      <td>class1</td>\n",
       "    </tr>\n",
       "    <tr>\n",
       "      <th>1</th>\n",
       "      <td>red</td>\n",
       "      <td>L</td>\n",
       "      <td>13.5</td>\n",
       "      <td>class2</td>\n",
       "    </tr>\n",
       "    <tr>\n",
       "      <th>2</th>\n",
       "      <td>blue</td>\n",
       "      <td>XL</td>\n",
       "      <td>15.3</td>\n",
       "      <td>class1</td>\n",
       "    </tr>\n",
       "  </tbody>\n",
       "</table>\n",
       "</div>"
      ],
      "text/plain": [
       "   color size  price classlabel\n",
       "0  green    M   10.1     class1\n",
       "1    red    L   13.5     class2\n",
       "2   blue   XL   15.3     class1"
      ]
     },
     "execution_count": 18,
     "metadata": {},
     "output_type": "execute_result"
    }
   ],
   "source": [
    "import pandas as pd\n",
    "\n",
    "df = pd.DataFrame([['green', 'M', 10.1, 'class1'],\n",
    "                   ['red', 'L', 13.5, 'class2'],\n",
    "                   ['blue', 'XL', 15.3, 'class1']])\n",
    "\n",
    "df.columns = ['color', 'size', 'price', 'classlabel']\n",
    "df"
   ]
  },
  {
   "cell_type": "code",
   "execution_count": 17,
   "metadata": {
    "collapsed": false
   },
   "outputs": [
    {
     "data": {
      "text/html": [
       "<div>\n",
       "<table border=\"1\" class=\"dataframe\">\n",
       "  <thead>\n",
       "    <tr style=\"text-align: right;\">\n",
       "      <th></th>\n",
       "      <th>color</th>\n",
       "      <th>size</th>\n",
       "      <th>price</th>\n",
       "      <th>classlabel</th>\n",
       "    </tr>\n",
       "  </thead>\n",
       "  <tbody>\n",
       "    <tr>\n",
       "      <th>0</th>\n",
       "      <td>green</td>\n",
       "      <td>1</td>\n",
       "      <td>10.1</td>\n",
       "      <td>0</td>\n",
       "    </tr>\n",
       "    <tr>\n",
       "      <th>1</th>\n",
       "      <td>red</td>\n",
       "      <td>2</td>\n",
       "      <td>13.5</td>\n",
       "      <td>1</td>\n",
       "    </tr>\n",
       "    <tr>\n",
       "      <th>2</th>\n",
       "      <td>blue</td>\n",
       "      <td>3</td>\n",
       "      <td>15.3</td>\n",
       "      <td>0</td>\n",
       "    </tr>\n",
       "  </tbody>\n",
       "</table>\n",
       "</div>"
      ],
      "text/plain": [
       "   color  size  price  classlabel\n",
       "0  green     1   10.1           0\n",
       "1    red     2   13.5           1\n",
       "2   blue     3   15.3           0"
      ]
     },
     "execution_count": 17,
     "metadata": {},
     "output_type": "execute_result"
    }
   ],
   "source": [
    "from sklearn.preprocessing import LabelEncoder\n",
    "size_mapping = {'XL': 3, 'L': 2, 'M': 1}\n",
    "class_le = LabelEncoder()\n",
    "df['size'] = df['size'].map(size_mapping)\n",
    "df['classlabel'] = class_le.fit_transform(df['classlabel'].values)\n",
    "df"
   ]
  },
  {
   "cell_type": "markdown",
   "metadata": {},
   "source": [
    "### 因みに下のメソッドで一発でone-hot encoding出来る\n",
    "ただし、順序特徴量（ここではサイズ）はダミー変数を作る必要は必ずしも無い。\n",
    "順序特徴量間で、適正な数値への対応付けが難しい場合も多いので、one-hot化しておくのが無難"
   ]
  },
  {
   "cell_type": "code",
   "execution_count": 22,
   "metadata": {
    "collapsed": false
   },
   "outputs": [
    {
     "data": {
      "text/html": [
       "<div>\n",
       "<table border=\"1\" class=\"dataframe\">\n",
       "  <thead>\n",
       "    <tr style=\"text-align: right;\">\n",
       "      <th></th>\n",
       "      <th>price</th>\n",
       "      <th>color_blue</th>\n",
       "      <th>color_green</th>\n",
       "      <th>color_red</th>\n",
       "      <th>size_L</th>\n",
       "      <th>size_M</th>\n",
       "      <th>size_XL</th>\n",
       "      <th>classlabel_class1</th>\n",
       "      <th>classlabel_class2</th>\n",
       "    </tr>\n",
       "  </thead>\n",
       "  <tbody>\n",
       "    <tr>\n",
       "      <th>0</th>\n",
       "      <td>10.1</td>\n",
       "      <td>0</td>\n",
       "      <td>1</td>\n",
       "      <td>0</td>\n",
       "      <td>0</td>\n",
       "      <td>1</td>\n",
       "      <td>0</td>\n",
       "      <td>1</td>\n",
       "      <td>0</td>\n",
       "    </tr>\n",
       "    <tr>\n",
       "      <th>1</th>\n",
       "      <td>13.5</td>\n",
       "      <td>0</td>\n",
       "      <td>0</td>\n",
       "      <td>1</td>\n",
       "      <td>1</td>\n",
       "      <td>0</td>\n",
       "      <td>0</td>\n",
       "      <td>0</td>\n",
       "      <td>1</td>\n",
       "    </tr>\n",
       "    <tr>\n",
       "      <th>2</th>\n",
       "      <td>15.3</td>\n",
       "      <td>1</td>\n",
       "      <td>0</td>\n",
       "      <td>0</td>\n",
       "      <td>0</td>\n",
       "      <td>0</td>\n",
       "      <td>1</td>\n",
       "      <td>1</td>\n",
       "      <td>0</td>\n",
       "    </tr>\n",
       "  </tbody>\n",
       "</table>\n",
       "</div>"
      ],
      "text/plain": [
       "   price  color_blue  color_green  color_red  size_L  size_M  size_XL  \\\n",
       "0   10.1           0            1          0       0       1        0   \n",
       "1   13.5           0            0          1       1       0        0   \n",
       "2   15.3           1            0          0       0       0        1   \n",
       "\n",
       "   classlabel_class1  classlabel_class2  \n",
       "0                  1                  0  \n",
       "1                  0                  1  \n",
       "2                  1                  0  "
      ]
     },
     "execution_count": 22,
     "metadata": {},
     "output_type": "execute_result"
    }
   ],
   "source": [
    "pd.get_dummies(df)"
   ]
  },
  {
   "cell_type": "markdown",
   "metadata": {},
   "source": [
    "---\n",
    "# データセットの分割（train/test）"
   ]
  },
  {
   "cell_type": "code",
   "execution_count": 24,
   "metadata": {
    "collapsed": false
   },
   "outputs": [
    {
     "name": "stdout",
     "output_type": "stream",
     "text": [
      "Class labels [1 2 3]\n"
     ]
    },
    {
     "data": {
      "text/html": [
       "<div>\n",
       "<table border=\"1\" class=\"dataframe\">\n",
       "  <thead>\n",
       "    <tr style=\"text-align: right;\">\n",
       "      <th></th>\n",
       "      <th>Class label</th>\n",
       "      <th>Alcohol</th>\n",
       "      <th>Malic acid</th>\n",
       "      <th>Ash</th>\n",
       "      <th>Alcalinity of ash</th>\n",
       "      <th>Magnesium</th>\n",
       "      <th>Total phenols</th>\n",
       "      <th>Flavanoids</th>\n",
       "      <th>Nonflavanoid phenols</th>\n",
       "      <th>Proanthocyanins</th>\n",
       "      <th>Color intensity</th>\n",
       "      <th>Hue</th>\n",
       "      <th>OD280/OD315 of diluted wines</th>\n",
       "      <th>Proline</th>\n",
       "    </tr>\n",
       "  </thead>\n",
       "  <tbody>\n",
       "    <tr>\n",
       "      <th>0</th>\n",
       "      <td>1</td>\n",
       "      <td>14.23</td>\n",
       "      <td>1.71</td>\n",
       "      <td>2.43</td>\n",
       "      <td>15.6</td>\n",
       "      <td>127</td>\n",
       "      <td>2.80</td>\n",
       "      <td>3.06</td>\n",
       "      <td>0.28</td>\n",
       "      <td>2.29</td>\n",
       "      <td>5.64</td>\n",
       "      <td>1.04</td>\n",
       "      <td>3.92</td>\n",
       "      <td>1065</td>\n",
       "    </tr>\n",
       "    <tr>\n",
       "      <th>1</th>\n",
       "      <td>1</td>\n",
       "      <td>13.20</td>\n",
       "      <td>1.78</td>\n",
       "      <td>2.14</td>\n",
       "      <td>11.2</td>\n",
       "      <td>100</td>\n",
       "      <td>2.65</td>\n",
       "      <td>2.76</td>\n",
       "      <td>0.26</td>\n",
       "      <td>1.28</td>\n",
       "      <td>4.38</td>\n",
       "      <td>1.05</td>\n",
       "      <td>3.40</td>\n",
       "      <td>1050</td>\n",
       "    </tr>\n",
       "    <tr>\n",
       "      <th>2</th>\n",
       "      <td>1</td>\n",
       "      <td>13.16</td>\n",
       "      <td>2.36</td>\n",
       "      <td>2.67</td>\n",
       "      <td>18.6</td>\n",
       "      <td>101</td>\n",
       "      <td>2.80</td>\n",
       "      <td>3.24</td>\n",
       "      <td>0.30</td>\n",
       "      <td>2.81</td>\n",
       "      <td>5.68</td>\n",
       "      <td>1.03</td>\n",
       "      <td>3.17</td>\n",
       "      <td>1185</td>\n",
       "    </tr>\n",
       "    <tr>\n",
       "      <th>3</th>\n",
       "      <td>1</td>\n",
       "      <td>14.37</td>\n",
       "      <td>1.95</td>\n",
       "      <td>2.50</td>\n",
       "      <td>16.8</td>\n",
       "      <td>113</td>\n",
       "      <td>3.85</td>\n",
       "      <td>3.49</td>\n",
       "      <td>0.24</td>\n",
       "      <td>2.18</td>\n",
       "      <td>7.80</td>\n",
       "      <td>0.86</td>\n",
       "      <td>3.45</td>\n",
       "      <td>1480</td>\n",
       "    </tr>\n",
       "    <tr>\n",
       "      <th>4</th>\n",
       "      <td>1</td>\n",
       "      <td>13.24</td>\n",
       "      <td>2.59</td>\n",
       "      <td>2.87</td>\n",
       "      <td>21.0</td>\n",
       "      <td>118</td>\n",
       "      <td>2.80</td>\n",
       "      <td>2.69</td>\n",
       "      <td>0.39</td>\n",
       "      <td>1.82</td>\n",
       "      <td>4.32</td>\n",
       "      <td>1.04</td>\n",
       "      <td>2.93</td>\n",
       "      <td>735</td>\n",
       "    </tr>\n",
       "  </tbody>\n",
       "</table>\n",
       "</div>"
      ],
      "text/plain": [
       "   Class label  Alcohol  Malic acid   Ash  Alcalinity of ash  Magnesium  \\\n",
       "0            1    14.23        1.71  2.43               15.6        127   \n",
       "1            1    13.20        1.78  2.14               11.2        100   \n",
       "2            1    13.16        2.36  2.67               18.6        101   \n",
       "3            1    14.37        1.95  2.50               16.8        113   \n",
       "4            1    13.24        2.59  2.87               21.0        118   \n",
       "\n",
       "   Total phenols  Flavanoids  Nonflavanoid phenols  Proanthocyanins  \\\n",
       "0           2.80        3.06                  0.28             2.29   \n",
       "1           2.65        2.76                  0.26             1.28   \n",
       "2           2.80        3.24                  0.30             2.81   \n",
       "3           3.85        3.49                  0.24             2.18   \n",
       "4           2.80        2.69                  0.39             1.82   \n",
       "\n",
       "   Color intensity   Hue  OD280/OD315 of diluted wines  Proline  \n",
       "0             5.64  1.04                          3.92     1065  \n",
       "1             4.38  1.05                          3.40     1050  \n",
       "2             5.68  1.03                          3.17     1185  \n",
       "3             7.80  0.86                          3.45     1480  \n",
       "4             4.32  1.04                          2.93      735  "
      ]
     },
     "execution_count": 24,
     "metadata": {},
     "output_type": "execute_result"
    }
   ],
   "source": [
    "import numpy as np\n",
    "\n",
    "df_wine = pd.read_csv('https://archive.ics.uci.edu/'\n",
    "                      'ml/machine-learning-databases/wine/wine.data',\n",
    "                      header=None)\n",
    "\n",
    "df_wine.columns = ['Class label', 'Alcohol', 'Malic acid', 'Ash',\n",
    "                   'Alcalinity of ash', 'Magnesium', 'Total phenols',\n",
    "                   'Flavanoids', 'Nonflavanoid phenols', 'Proanthocyanins',\n",
    "                   'Color intensity', 'Hue', 'OD280/OD315 of diluted wines',\n",
    "                   'Proline']\n",
    "\n",
    "print('Class labels', np.unique(df_wine['Class label']))\n",
    "df_wine.head()"
   ]
  },
  {
   "cell_type": "code",
   "execution_count": 25,
   "metadata": {
    "collapsed": false
   },
   "outputs": [
    {
     "name": "stderr",
     "output_type": "stream",
     "text": [
      "/Users/yoko/.anyenv/envs/pyenv/versions/anaconda3-4.3.1/lib/python3.6/site-packages/sklearn/cross_validation.py:44: DeprecationWarning: This module was deprecated in version 0.18 in favor of the model_selection module into which all the refactored classes and functions are moved. Also note that the interface of the new CV iterators are different from that of this module. This module will be removed in 0.20.\n",
      "  \"This module will be removed in 0.20.\", DeprecationWarning)\n"
     ]
    }
   ],
   "source": [
    "from sklearn.cross_validation import train_test_split\n",
    "\n",
    "X, y = df_wine.iloc[:, 1:].values, df_wine.iloc[:, 0].values\n",
    "\n",
    "X_train, X_test, y_train, y_test = \\\n",
    "    train_test_split(X, y, test_size=0.3, random_state=0)"
   ]
  },
  {
   "cell_type": "markdown",
   "metadata": {},
   "source": [
    "---\n",
    "# 正規化と標準化\n",
    "正規化はMax-Minでデータの区間を[0,1]に収める方法\n",
    "\n",
    "標準化は平均を0,標準偏差を1にする方法\n",
    "\n",
    "正規化は外れ値の影響が大きくなってしまうので、標準化の方が広く使われている。\n",
    "標準化は、外れ値を標準化操作を施した後でも外れ値として扱うことが出来る。\n",
    "\n",
    "### scikit-learn で標準化する方法↓"
   ]
  },
  {
   "cell_type": "code",
   "execution_count": 26,
   "metadata": {
    "collapsed": true
   },
   "outputs": [],
   "source": [
    "from sklearn.preprocessing import StandardScaler\n",
    "\n",
    "stdsc = StandardScaler()\n",
    "X_train_std = stdsc.fit_transform(X_train)\n",
    "X_test_std = stdsc.transform(X_test)"
   ]
  },
  {
   "cell_type": "code",
   "execution_count": 37,
   "metadata": {
    "collapsed": false
   },
   "outputs": [
    {
     "name": "stdout",
     "output_type": "stream",
     "text": [
      "[-0.38385686 -0.15808139 -0.70042516]\n",
      "[[ 0.28040467  0.          0.         -0.02799589  0.          0.\n",
      "   0.71019115  0.          0.          0.          0.          0.\n",
      "   1.23614666]\n",
      " [-0.64398746 -0.06878428 -0.05721683  0.          0.          0.          0.\n",
      "   0.          0.         -0.92679222  0.06017614  0.         -0.37099794]\n",
      " [ 0.          0.06151747  0.          0.          0.          0.\n",
      "  -0.63561945  0.          0.          0.4978958  -0.35829198 -0.57175723\n",
      "   0.        ]]\n"
     ]
    }
   ],
   "source": [
    "from sklearn.linear_model import LogisticRegression\n",
    "\n",
    "lr = LogisticRegression(penalty='l1', C=0.1)\n",
    "lr.fit(X_train_std, y_train)\n",
    "print(lr.intercept_)\n",
    "print(lr.coef_)"
   ]
  },
  {
   "cell_type": "markdown",
   "metadata": {},
   "source": [
    "**他クラスロジスティック回帰** なので、重み行列は3行だが、切片を例に挙げると\n",
    "\n",
    "[クラス1 vs クラス2&3 クラス2 vs クラス1&3 クラス3 vs クラス1&2]\n",
    "\n",
    "といった感じで要素が並んでいる\n",
    "\n",
    "---\n",
    "### ワイン特徴量のL1正則化の効果を表したグラフ"
   ]
  },
  {
   "cell_type": "markdown",
   "metadata": {},
   "source": [
    "![L1正則化の効果](http://imgur.com/ix28Xeh.jpg)"
   ]
  },
  {
   "cell_type": "markdown",
   "metadata": {},
   "source": [
    "# ランダムフォレストで特徴量の重要度を解析する\n",
    "\n",
    "scikit-learnではランダムフォレストを用いて特徴量の解析や、特徴量選択することも容易に可能である。\n",
    "\n",
    "ただし、注意する点として、ランダムフォレスト方式の特徴量選択は、特徴量同士の相関が高い時に適切に特徴量の重要度を正しく知ることが出来ないことがある。\n",
    "単純にモデルの性能を良くしたいときに使うようにするべき。"
   ]
  },
  {
   "cell_type": "code",
   "execution_count": 43,
   "metadata": {
    "collapsed": false
   },
   "outputs": [
    {
     "name": "stdout",
     "output_type": "stream",
     "text": [
      " 1) Color intensity                0.182483\n",
      " 2) Proline                        0.158610\n",
      " 3) Flavanoids                     0.150948\n",
      " 4) OD280/OD315 of diluted wines   0.131987\n",
      " 5) Alcohol                        0.106589\n",
      " 6) Hue                            0.078243\n",
      " 7) Total phenols                  0.060718\n",
      " 8) Alcalinity of ash              0.032033\n",
      " 9) Malic acid                     0.025400\n",
      "10) Proanthocyanins                0.022351\n",
      "11) Magnesium                      0.022078\n",
      "12) Nonflavanoid phenols           0.014645\n",
      "13) Ash                            0.013916\n"
     ]
    },
    {
     "data": {
      "image/png": "[encoded data removed]",
      "text/plain": [
       "<matplotlib.figure.Figure at 0x1182c2f28>"
      ]
     },
     "metadata": {},
     "output_type": "display_data"
    }
   ],
   "source": [
    "from sklearn.ensemble import RandomForestClassifier\n",
    "\n",
    "feat_labels = df_wine.columns[1:]\n",
    "\n",
    "forest = RandomForestClassifier(n_estimators=10000,\n",
    "                                random_state=0,\n",
    "                                n_jobs=-1)\n",
    "\n",
    "forest.fit(X_train, y_train)\n",
    "importances = forest.feature_importances_\n",
    "\n",
    "indices = np.argsort(importances)[::-1]\n",
    "\n",
    "for f in range(X_train.shape[1]):\n",
    "    print(\"%2d) %-*s %f\" % (f + 1, 30, \n",
    "                            feat_labels[indices[f]], \n",
    "                            importances[indices[f]]))\n",
    "\n",
    "plt.title('Feature Importances')\n",
    "plt.bar(range(X_train.shape[1]), \n",
    "        importances[indices],\n",
    "        color='lightblue', \n",
    "        align='center')\n",
    "\n",
    "plt.xticks(range(X_train.shape[1]), \n",
    "           feat_labels[indices], rotation=90)\n",
    "plt.xlim([-1, X_train.shape[1]])\n",
    "plt.tight_layout()\n",
    "plt.show()"
   ]
  },
  {
   "cell_type": "code",
   "execution_count": 47,
   "metadata": {
    "collapsed": false
   },
   "outputs": [
    {
     "name": "stderr",
     "output_type": "stream",
     "text": [
      "/Users/yoko/.anyenv/envs/pyenv/versions/anaconda3-4.3.1/lib/python3.6/site-packages/sklearn/utils/deprecation.py:70: DeprecationWarning: Function transform is deprecated; Support to use estimators as feature selectors will be removed in version 0.19. Use SelectFromModel instead.\n",
      "  warnings.warn(msg, category=DeprecationWarning)\n"
     ]
    },
    {
     "data": {
      "text/plain": [
       "array([[  2.88000000e+00,   3.80000000e+00,   1.03500000e+03],\n",
       "       [  2.04000000e+00,   2.70000000e+00,   3.12000000e+02],\n",
       "       [  6.90000000e-01,   1.02000000e+01,   8.35000000e+02],\n",
       "       [  5.50000000e-01,   4.00000000e+00,   8.30000000e+02],\n",
       "       [  2.86000000e+00,   3.38000000e+00,   4.10000000e+02],\n",
       "       [  6.00000000e-01,   5.58000000e+00,   5.70000000e+02],\n",
       "       [  8.30000000e-01,   9.01000000e+00,   4.80000000e+02],\n",
       "       [  2.19000000e+00,   3.95000000e+00,   1.28500000e+03],\n",
       "       [  1.59000000e+00,   4.80000000e+00,   5.15000000e+02],\n",
       "       [  5.80000000e-01,   5.45000000e+00,   6.50000000e+02],\n",
       "       [  2.50000000e+00,   2.90000000e+00,   4.28000000e+02],\n",
       "       [  1.25000000e+00,   3.40000000e+00,   3.72000000e+02],\n",
       "       [  7.00000000e-01,   5.28000000e+00,   6.75000000e+02],\n",
       "       [  1.79000000e+00,   3.80000000e+00,   6.30000000e+02],\n",
       "       [  3.24000000e+00,   5.68000000e+00,   1.18500000e+03],\n",
       "       [  5.70000000e-01,   1.95000000e+00,   5.20000000e+02],\n",
       "       [  2.27000000e+00,   2.60000000e+00,   9.37000000e+02],\n",
       "       [  9.90000000e-01,   2.50000000e+00,   6.25000000e+02],\n",
       "       [  2.63000000e+00,   4.36000000e+00,   6.80000000e+02],\n",
       "       [  3.32000000e+00,   5.75000000e+00,   1.51000000e+03],\n",
       "       [  2.92000000e+00,   2.65000000e+00,   6.80000000e+02],\n",
       "       [  2.89000000e+00,   3.35000000e+00,   9.85000000e+02],\n",
       "       [  5.10000000e-01,   9.89999900e+00,   4.70000000e+02],\n",
       "       [  1.10000000e+00,   1.17500000e+01,   6.20000000e+02],\n",
       "       [  2.58000000e+00,   2.90000000e+00,   5.62000000e+02],\n",
       "       [  2.65000000e+00,   2.76000000e+00,   3.78000000e+02],\n",
       "       [  1.60000000e+00,   1.95000000e+00,   4.95000000e+02],\n",
       "       [  9.20000000e-01,   1.06800000e+01,   6.95000000e+02],\n",
       "       [  4.90000000e-01,   5.50000000e+00,   5.10000000e+02],\n",
       "       [  3.27000000e+00,   7.20000000e+00,   1.15000000e+03],\n",
       "       [  6.30000000e-01,   7.90000000e+00,   7.25000000e+02],\n",
       "       [  1.59000000e+00,   1.74000000e+00,   6.25000000e+02],\n",
       "       [  1.75000000e+00,   2.95000000e+00,   3.55000000e+02],\n",
       "       [  2.13000000e+00,   2.08000000e+00,   3.65000000e+02],\n",
       "       [  3.03000000e+00,   2.80000000e+00,   3.80000000e+02],\n",
       "       [  1.28000000e+00,   2.85000000e+00,   7.18000000e+02],\n",
       "       [  3.54000000e+00,   8.90000000e+00,   1.26000000e+03],\n",
       "       [  2.92000000e+00,   6.20000000e+00,   1.06000000e+03],\n",
       "       [  1.94000000e+00,   2.62000000e+00,   4.50000000e+02],\n",
       "       [  3.69000000e+00,   5.40000000e+00,   1.15000000e+03],\n",
       "       [  4.70000000e-01,   3.85000000e+00,   7.20000000e+02],\n",
       "       [  2.37000000e+00,   3.93000000e+00,   1.01500000e+03],\n",
       "       [  4.70000000e-01,   6.62000000e+00,   5.20000000e+02],\n",
       "       [  3.17000000e+00,   5.65000000e+00,   7.80000000e+02],\n",
       "       [  2.91000000e+00,   7.30000000e+00,   1.31000000e+03],\n",
       "       [  1.85000000e+00,   3.40000000e+00,   7.50000000e+02],\n",
       "       [  3.74000000e+00,   7.05000000e+00,   1.19000000e+03],\n",
       "       [  2.17000000e+00,   3.30000000e+00,   7.10000000e+02],\n",
       "       [  2.03000000e+00,   4.60000000e+00,   3.92000000e+02],\n",
       "       [  3.49000000e+00,   7.80000000e+00,   1.48000000e+03],\n",
       "       [  6.80000000e-01,   9.30000000e+00,   8.40000000e+02],\n",
       "       [  1.76000000e+00,   3.30000000e+00,   4.88000000e+02],\n",
       "       [  2.52000000e+00,   5.25000000e+00,   1.29000000e+03],\n",
       "       [  1.30000000e+00,   3.17000000e+00,   7.50000000e+02],\n",
       "       [  1.57000000e+00,   3.80000000e+00,   4.28000000e+02],\n",
       "       [  2.21000000e+00,   3.05000000e+00,   5.20000000e+02],\n",
       "       [  1.25000000e+00,   4.10000000e+00,   6.30000000e+02],\n",
       "       [  2.76000000e+00,   5.60000000e+00,   1.32000000e+03],\n",
       "       [  6.00000000e-01,   5.00000000e+00,   5.15000000e+02],\n",
       "       [  1.28000000e+00,   7.10000000e+00,   4.25000000e+02],\n",
       "       [  3.64000000e+00,   7.50000000e+00,   1.54700000e+03],\n",
       "       [  3.06000000e+00,   5.64000000e+00,   1.06500000e+03],\n",
       "       [  1.25000000e+00,   3.60000000e+00,   4.50000000e+02],\n",
       "       [  8.30000000e-01,   1.05200000e+01,   6.75000000e+02],\n",
       "       [  3.17000000e+00,   4.90000000e+00,   1.06500000e+03],\n",
       "       [  2.43000000e+00,   5.00000000e+00,   1.28000000e+03],\n",
       "       [  1.64000000e+00,   1.28000000e+00,   5.64000000e+02],\n",
       "       [  2.11000000e+00,   2.80000000e+00,   4.38000000e+02],\n",
       "       [  2.98000000e+00,   5.10000000e+00,   9.20000000e+02],\n",
       "       [  3.23000000e+00,   6.00000000e+00,   1.27000000e+03],\n",
       "       [  2.68000000e+00,   4.28000000e+00,   1.03500000e+03],\n",
       "       [  6.10000000e-01,   7.70000000e+00,   7.40000000e+02],\n",
       "       [  2.65000000e+00,   4.60000000e+00,   6.78000000e+02],\n",
       "       [  2.76000000e+00,   4.38000000e+00,   1.05000000e+03],\n",
       "       [  2.79000000e+00,   3.25000000e+00,   6.25000000e+02],\n",
       "       [  8.00000000e-01,   4.40000000e+00,   5.50000000e+02],\n",
       "       [  3.56000000e+00,   5.43000000e+00,   1.09500000e+03],\n",
       "       [  1.84000000e+00,   2.70000000e+00,   3.15000000e+02],\n",
       "       [  1.09000000e+00,   5.70000000e+00,   5.60000000e+02],\n",
       "       [  5.80000000e-01,   7.60000000e+00,   6.40000000e+02],\n",
       "       [  3.40000000e+00,   6.60000000e+00,   1.13000000e+03],\n",
       "       [  2.64000000e+00,   3.70000000e+00,   1.02000000e+03],\n",
       "       [  1.20000000e+00,   5.00000000e+00,   6.00000000e+02],\n",
       "       [  2.79000000e+00,   6.30000000e+00,   1.37500000e+03],\n",
       "       [  6.00000000e-01,   4.92000000e+00,   5.90000000e+02],\n",
       "       [  2.45000000e+00,   2.12000000e+00,   3.42000000e+02],\n",
       "       [  2.53000000e+00,   4.20000000e+00,   1.09500000e+03],\n",
       "       [  2.97000000e+00,   4.50000000e+00,   9.15000000e+02],\n",
       "       [  2.29000000e+00,   2.90000000e+00,   3.85000000e+02],\n",
       "       [  3.19000000e+00,   6.90000000e+00,   1.51500000e+03],\n",
       "       [  1.39000000e+00,   9.40000000e+00,   5.50000000e+02],\n",
       "       [  2.24000000e+00,   3.00000000e+00,   4.66000000e+02],\n",
       "       [  5.80000000e-01,   7.50000000e+00,   8.80000000e+02],\n",
       "       [  2.69000000e+00,   3.84000000e+00,   9.90000000e+02],\n",
       "       [  5.20000000e-01,   4.35000000e+00,   5.20000000e+02],\n",
       "       [  1.57000000e+00,   8.60000000e+00,   5.00000000e+02],\n",
       "       [  6.50000000e-01,   7.65000000e+00,   6.25000000e+02],\n",
       "       [  2.33000000e+00,   4.70000000e+00,   1.03500000e+03],\n",
       "       [  2.99000000e+00,   2.30000000e+00,   4.06000000e+02],\n",
       "       [  1.58000000e+00,   2.20000000e+00,   6.30000000e+02],\n",
       "       [  2.55000000e+00,   2.57000000e+00,   4.63000000e+02],\n",
       "       [  2.17000000e+00,   1.90000000e+00,   4.07000000e+02],\n",
       "       [  7.60000000e-01,   8.42000000e+00,   6.50000000e+02],\n",
       "       [  7.60000000e-01,   9.20000000e+00,   5.60000000e+02],\n",
       "       [  1.84000000e+00,   3.74000000e+00,   4.72000000e+02],\n",
       "       [  1.32000000e+00,   2.65000000e+00,   5.00000000e+02],\n",
       "       [  2.68000000e+00,   3.58000000e+00,   8.30000000e+02],\n",
       "       [  2.53000000e+00,   3.90000000e+00,   7.14000000e+02],\n",
       "       [  6.60000000e-01,   1.02600000e+01,   6.85000000e+02],\n",
       "       [  9.60000000e-01,   8.50000000e+00,   6.30000000e+02],\n",
       "       [  3.04000000e+00,   5.10000000e+00,   7.60000000e+02],\n",
       "       [  3.67000000e+00,   6.80000000e+00,   1.28500000e+03],\n",
       "       [  5.00000000e-01,   4.60000000e+00,   6.00000000e+02],\n",
       "       [  1.69000000e+00,   2.80000000e+00,   6.80000000e+02],\n",
       "       [  1.02000000e+00,   3.05000000e+00,   8.70000000e+02],\n",
       "       [  1.61000000e+00,   2.60000000e+00,   5.62000000e+02],\n",
       "       [  2.68000000e+00,   4.60000000e+00,   8.80000000e+02],\n",
       "       [  2.41000000e+00,   4.50000000e+00,   7.70000000e+02],\n",
       "       [  3.15000000e+00,   7.22000000e+00,   1.04500000e+03],\n",
       "       [  1.64000000e+00,   2.06000000e+00,   4.15000000e+02],\n",
       "       [  2.00000000e+00,   4.68000000e+00,   5.10000000e+02],\n",
       "       [  2.09000000e+00,   2.06000000e+00,   3.45000000e+02],\n",
       "       [  3.39000000e+00,   6.10000000e+00,   9.85000000e+02],\n",
       "       [  7.00000000e-01,   9.70000000e+00,   6.60000000e+02]])"
      ]
     },
     "execution_count": 47,
     "metadata": {},
     "output_type": "execute_result"
    }
   ],
   "source": [
    "# 重要度が0.15以上の特徴量を抽出\n",
    "forest.transform(X_train, threshold=0.15)"
   ]
  },
  {
   "cell_type": "code",
   "execution_count": null,
   "metadata": {
    "collapsed": true
   },
   "outputs": [],
   "source": []
  }
 ],
 "metadata": {
  "kernelspec": {
   "display_name": "Python 3",
   "language": "python",
   "name": "python3"
  },
  "language_info": {
   "codemirror_mode": {
    "name": "ipython",
    "version": 3
   },
   "file_extension": ".py",
   "mimetype": "text/x-python",
   "name": "python",
   "nbconvert_exporter": "python",
   "pygments_lexer": "ipython3",
   "version": "3.6.0"
  }
 },
 "nbformat": 4,
 "nbformat_minor": 2
}
